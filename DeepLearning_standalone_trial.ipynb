{
  "nbformat": 4,
  "nbformat_minor": 0,
  "metadata": {
    "colab": {
      "name": "Resnet50_trial.ipynb",
      "provenance": [],
      "collapsed_sections": []
    },
    "kernelspec": {
      "name": "python3",
      "display_name": "Python 3"
    },
    "language_info": {
      "name": "python"
    },
    "widgets": {
      "application/vnd.jupyter.widget-state+json": {
        "e055607093ec4d0da9b5e55d87ddc4e6": {
          "model_module": "@jupyter-widgets/controls",
          "model_name": "HBoxModel",
          "state": {
            "_view_name": "HBoxView",
            "_dom_classes": [],
            "_model_name": "HBoxModel",
            "_view_module": "@jupyter-widgets/controls",
            "_model_module_version": "1.5.0",
            "_view_count": null,
            "_view_module_version": "1.5.0",
            "box_style": "",
            "layout": "IPY_MODEL_8c4eedaa73f4427da4ad95f5686f5765",
            "_model_module": "@jupyter-widgets/controls",
            "children": [
              "IPY_MODEL_b97e4ad357b147b1b01aab0f142f392d",
              "IPY_MODEL_c40d04500b2d4248ad8a2675e70cfb3c"
            ]
          }
        },
        "8c4eedaa73f4427da4ad95f5686f5765": {
          "model_module": "@jupyter-widgets/base",
          "model_name": "LayoutModel",
          "state": {
            "_view_name": "LayoutView",
            "grid_template_rows": null,
            "right": null,
            "justify_content": null,
            "_view_module": "@jupyter-widgets/base",
            "overflow": null,
            "_model_module_version": "1.2.0",
            "_view_count": null,
            "flex_flow": null,
            "width": null,
            "min_width": null,
            "border": null,
            "align_items": null,
            "bottom": null,
            "_model_module": "@jupyter-widgets/base",
            "top": null,
            "grid_column": null,
            "overflow_y": null,
            "overflow_x": null,
            "grid_auto_flow": null,
            "grid_area": null,
            "grid_template_columns": null,
            "flex": null,
            "_model_name": "LayoutModel",
            "justify_items": null,
            "grid_row": null,
            "max_height": null,
            "align_content": null,
            "visibility": null,
            "align_self": null,
            "height": null,
            "min_height": null,
            "padding": null,
            "grid_auto_rows": null,
            "grid_gap": null,
            "max_width": null,
            "order": null,
            "_view_module_version": "1.2.0",
            "grid_template_areas": null,
            "object_position": null,
            "object_fit": null,
            "grid_auto_columns": null,
            "margin": null,
            "display": null,
            "left": null
          }
        },
        "b97e4ad357b147b1b01aab0f142f392d": {
          "model_module": "@jupyter-widgets/controls",
          "model_name": "FloatProgressModel",
          "state": {
            "_view_name": "ProgressView",
            "style": "IPY_MODEL_4021ea29d0f541e2b99385d67c9d57d8",
            "_dom_classes": [],
            "description": "100%",
            "_model_name": "FloatProgressModel",
            "bar_style": "success",
            "max": 102502400,
            "_view_module": "@jupyter-widgets/controls",
            "_model_module_version": "1.5.0",
            "value": 102502400,
            "_view_count": null,
            "_view_module_version": "1.5.0",
            "orientation": "horizontal",
            "min": 0,
            "description_tooltip": null,
            "_model_module": "@jupyter-widgets/controls",
            "layout": "IPY_MODEL_f9d4c675f52c425c9f0765153b70a108"
          }
        },
        "c40d04500b2d4248ad8a2675e70cfb3c": {
          "model_module": "@jupyter-widgets/controls",
          "model_name": "HTMLModel",
          "state": {
            "_view_name": "HTMLView",
            "style": "IPY_MODEL_8d3aedcfaac64bbdab111d11f0ac6684",
            "_dom_classes": [],
            "description": "",
            "_model_name": "HTMLModel",
            "placeholder": "​",
            "_view_module": "@jupyter-widgets/controls",
            "_model_module_version": "1.5.0",
            "value": " 97.8M/97.8M [00:01&lt;00:00, 98.8MB/s]",
            "_view_count": null,
            "_view_module_version": "1.5.0",
            "description_tooltip": null,
            "_model_module": "@jupyter-widgets/controls",
            "layout": "IPY_MODEL_61c16638b70e4220bf5013fae3120b30"
          }
        },
        "4021ea29d0f541e2b99385d67c9d57d8": {
          "model_module": "@jupyter-widgets/controls",
          "model_name": "ProgressStyleModel",
          "state": {
            "_view_name": "StyleView",
            "_model_name": "ProgressStyleModel",
            "description_width": "initial",
            "_view_module": "@jupyter-widgets/base",
            "_model_module_version": "1.5.0",
            "_view_count": null,
            "_view_module_version": "1.2.0",
            "bar_color": null,
            "_model_module": "@jupyter-widgets/controls"
          }
        },
        "f9d4c675f52c425c9f0765153b70a108": {
          "model_module": "@jupyter-widgets/base",
          "model_name": "LayoutModel",
          "state": {
            "_view_name": "LayoutView",
            "grid_template_rows": null,
            "right": null,
            "justify_content": null,
            "_view_module": "@jupyter-widgets/base",
            "overflow": null,
            "_model_module_version": "1.2.0",
            "_view_count": null,
            "flex_flow": null,
            "width": null,
            "min_width": null,
            "border": null,
            "align_items": null,
            "bottom": null,
            "_model_module": "@jupyter-widgets/base",
            "top": null,
            "grid_column": null,
            "overflow_y": null,
            "overflow_x": null,
            "grid_auto_flow": null,
            "grid_area": null,
            "grid_template_columns": null,
            "flex": null,
            "_model_name": "LayoutModel",
            "justify_items": null,
            "grid_row": null,
            "max_height": null,
            "align_content": null,
            "visibility": null,
            "align_self": null,
            "height": null,
            "min_height": null,
            "padding": null,
            "grid_auto_rows": null,
            "grid_gap": null,
            "max_width": null,
            "order": null,
            "_view_module_version": "1.2.0",
            "grid_template_areas": null,
            "object_position": null,
            "object_fit": null,
            "grid_auto_columns": null,
            "margin": null,
            "display": null,
            "left": null
          }
        },
        "8d3aedcfaac64bbdab111d11f0ac6684": {
          "model_module": "@jupyter-widgets/controls",
          "model_name": "DescriptionStyleModel",
          "state": {
            "_view_name": "StyleView",
            "_model_name": "DescriptionStyleModel",
            "description_width": "",
            "_view_module": "@jupyter-widgets/base",
            "_model_module_version": "1.5.0",
            "_view_count": null,
            "_view_module_version": "1.2.0",
            "_model_module": "@jupyter-widgets/controls"
          }
        },
        "61c16638b70e4220bf5013fae3120b30": {
          "model_module": "@jupyter-widgets/base",
          "model_name": "LayoutModel",
          "state": {
            "_view_name": "LayoutView",
            "grid_template_rows": null,
            "right": null,
            "justify_content": null,
            "_view_module": "@jupyter-widgets/base",
            "overflow": null,
            "_model_module_version": "1.2.0",
            "_view_count": null,
            "flex_flow": null,
            "width": null,
            "min_width": null,
            "border": null,
            "align_items": null,
            "bottom": null,
            "_model_module": "@jupyter-widgets/base",
            "top": null,
            "grid_column": null,
            "overflow_y": null,
            "overflow_x": null,
            "grid_auto_flow": null,
            "grid_area": null,
            "grid_template_columns": null,
            "flex": null,
            "_model_name": "LayoutModel",
            "justify_items": null,
            "grid_row": null,
            "max_height": null,
            "align_content": null,
            "visibility": null,
            "align_self": null,
            "height": null,
            "min_height": null,
            "padding": null,
            "grid_auto_rows": null,
            "grid_gap": null,
            "max_width": null,
            "order": null,
            "_view_module_version": "1.2.0",
            "grid_template_areas": null,
            "object_position": null,
            "object_fit": null,
            "grid_auto_columns": null,
            "margin": null,
            "display": null,
            "left": null
          }
        }
      }
    }
  },
  "cells": [
    {
      "cell_type": "code",
      "metadata": {
        "colab": {
          "base_uri": "https://localhost:8080/"
        },
        "id": "MAElG0KPmjFY",
        "outputId": "6f94c6dc-1c6b-4db9-b303-37653bf16688"
      },
      "source": [
        "from tensorflow.keras.applications.resnet50 import ResNet50\n",
        "from tensorflow.keras.preprocessing import image\n",
        "from tensorflow.keras.applications.resnet50 import preprocess_input, decode_predictions\n",
        "import numpy as np\n",
        "\n",
        "\n",
        "\n",
        "from google.colab import drive\n",
        "drive.mount('/content/drive')"
      ],
      "execution_count": null,
      "outputs": [
        {
          "output_type": "stream",
          "text": [
            "Mounted at /content/drive\n"
          ],
          "name": "stdout"
        }
      ]
    },
    {
      "cell_type": "code",
      "metadata": {
        "id": "BNQNdYFFnC_M",
        "colab": {
          "base_uri": "https://localhost:8080/"
        },
        "outputId": "769a3d74-dad6-4a8a-dd9a-5ec8fedeb34f"
      },
      "source": [
        "# Evaluating Resnet50 on tensorflow\n",
        "\n",
        "#/content/drive/MyDrive/Documents/CIFAR-10-images-master/resnet50_weights_tf_dim_ordering_tf_kernels_notop.h5\n",
        "model = ResNet50(weights='imagenet')\n",
        "img_path = '/content/drive/MyDrive/Documents/CIFAR-10-images-master/elephant.jpg'\n",
        "img = image.load_img(img_path, target_size=(224, 224))\n",
        "x = image.img_to_array(img)\n",
        "x = np.expand_dims(x, axis=0)\n",
        "x = preprocess_input(x)\n",
        "\n",
        "preds = model.predict(x)\n",
        "# decode the results into a list of tuples (class, description, probability)\n",
        "# (one such list for each sample in the batch)\n",
        "print('Predicted:', decode_predictions(preds, top=3)[0])"
      ],
      "execution_count": null,
      "outputs": [
        {
          "output_type": "stream",
          "text": [
            "Downloading data from https://storage.googleapis.com/tensorflow/keras-applications/resnet/resnet50_weights_tf_dim_ordering_tf_kernels.h5\n",
            "102973440/102967424 [==============================] - 1s 0us/step\n",
            "Downloading data from https://storage.googleapis.com/download.tensorflow.org/data/imagenet_class_index.json\n",
            "40960/35363 [==================================] - 0s 0us/step\n",
            "Predicted: [('n02504013', 'Indian_elephant', 0.9507527), ('n01871265', 'tusker', 0.04835587), ('n02504458', 'African_elephant', 0.0008905625)]\n"
          ],
          "name": "stdout"
        }
      ]
    },
    {
      "cell_type": "code",
      "metadata": {
        "colab": {
          "base_uri": "https://localhost:8080/",
          "height": 183,
          "referenced_widgets": [
            "e055607093ec4d0da9b5e55d87ddc4e6",
            "8c4eedaa73f4427da4ad95f5686f5765",
            "b97e4ad357b147b1b01aab0f142f392d",
            "c40d04500b2d4248ad8a2675e70cfb3c",
            "4021ea29d0f541e2b99385d67c9d57d8",
            "f9d4c675f52c425c9f0765153b70a108",
            "8d3aedcfaac64bbdab111d11f0ac6684",
            "61c16638b70e4220bf5013fae3120b30"
          ]
        },
        "id": "86v-Ik0PHUtz",
        "outputId": "ce8ea13b-5bca-490b-e495-a1e84d25c122"
      },
      "source": [
        "# Evaluating Resnet50 on pytorch\n",
        "\n",
        "import torch\n",
        "from torchvision import models\n",
        "from PIL import Image\n",
        "from torchvision import transforms\n",
        "\n",
        "ele = Image.open('/content/drive/MyDrive/Documents/CIFAR-10-images-master/elephant.jpg').convert('RGB')\n",
        "\n",
        "\n",
        "\n",
        "preprocess = transforms.Compose([\n",
        "        #transforms.Resize(259),\n",
        "        #transforms.CenterCrop(224),\n",
        "        transforms.ToTensor(),\n",
        "        #transforms.Normalize(\n",
        "        #mean=[0.485, 0.456, 0.406],\n",
        "        #std=[0.229, 0.224, 0.225])\n",
        "        ])\n",
        "\n",
        "ele = preprocess(ele)\n",
        "ele = torch.unsqueeze(ele, 0)\n",
        "\n",
        "\n",
        "model = models.resnet50(pretrained=True)\n",
        "preds = model(ele)\n",
        "\n",
        "\n",
        "with open('/content/drive/MyDrive/Documents/CIFAR-10-images-master/imagenet1000_clsidx_to_labels.txt') as f:\n",
        "  labels = [line.strip() for line in f.readlines()]\n",
        "\n",
        "\n",
        "_, index = torch.max(preds, 1)\n",
        "percentage = torch.nn.functional.softmax(preds, dim=1)[0] * 1000\n",
        "print(labels[index[0]], percentage[index[0]].item())\n",
        "\n",
        "_, indices = torch.sort(preds, descending=True)\n",
        "[(labels[idx], percentage[idx].item()) for idx in indices[0][:5]]\n",
        "\n"
      ],
      "execution_count": null,
      "outputs": [
        {
          "output_type": "stream",
          "text": [
            "Downloading: \"https://download.pytorch.org/models/resnet50-19c8e357.pth\" to /root/.cache/torch/hub/checkpoints/resnet50-19c8e357.pth\n"
          ],
          "name": "stderr"
        },
        {
          "output_type": "display_data",
          "data": {
            "application/vnd.jupyter.widget-view+json": {
              "model_id": "e055607093ec4d0da9b5e55d87ddc4e6",
              "version_minor": 0,
              "version_major": 2
            },
            "text/plain": [
              "HBox(children=(FloatProgress(value=0.0, max=102502400.0), HTML(value='')))"
            ]
          },
          "metadata": {
            "tags": []
          }
        },
        {
          "output_type": "stream",
          "text": [
            "\n",
            "463: 'bucket, pail', 6.312507152557373\n"
          ],
          "name": "stdout"
        },
        {
          "output_type": "execute_result",
          "data": {
            "text/plain": [
              "[(\"463: 'bucket, pail',\", 6.312507152557373),\n",
              " (\"852: 'tennis ball',\", 5.446675777435303),\n",
              " (\"600: 'hook, claw',\", 5.39852237701416),\n",
              " ('731: \"plunger, plumber\\'s helper\",', 4.872817516326904),\n",
              " (\"733: 'pole',\", 4.221442699432373)]"
            ]
          },
          "metadata": {
            "tags": []
          },
          "execution_count": 3
        }
      ]
    },
    {
      "cell_type": "code",
      "metadata": {
        "colab": {
          "base_uri": "https://localhost:8080/"
        },
        "id": "wSjykArGB6bP",
        "outputId": "8dd80179-059d-495f-fabc-35c023325e09"
      },
      "source": [
        "# Evaluating VGG16 on tensorflow\n",
        "\n",
        "from tensorflow.keras.applications.vgg16 import VGG16\n",
        "from tensorflow.keras.preprocessing import image\n",
        "from tensorflow.keras.applications.vgg16 import preprocess_input,decode_predictions\n",
        "from tensorflow.keras.models import Model\n",
        "import numpy as np\n",
        "\n",
        "model = VGG16(weights='imagenet')\n",
        "\n",
        "img_path = '/content/drive/MyDrive/Documents/CIFAR-10-images-master/elephant.jpg'\n",
        "img = image.load_img(img_path, target_size=(224, 224))\n",
        "\n",
        "img = image.img_to_array(img)\n",
        "img = img.reshape((1, img.shape[0], img.shape[1], img.shape[2]))\n",
        "img = preprocess_input(img)\n",
        "#x = np.expand_dims(x, axis=0)\n",
        "\n",
        "\n",
        "labels = model.predict(img)\n",
        "label = decode_predictions(labels)\n",
        "print(\"the label is {} with {}% probability\".format(label[0][0][1],label[0][0][2]*100))"
      ],
      "execution_count": null,
      "outputs": [
        {
          "output_type": "stream",
          "text": [
            "WARNING:tensorflow:7 out of the last 7 calls to <function Model.make_predict_function.<locals>.predict_function at 0x7faca5109d40> triggered tf.function retracing. Tracing is expensive and the excessive number of tracings could be due to (1) creating @tf.function repeatedly in a loop, (2) passing tensors with different shapes, (3) passing Python objects instead of tensors. For (1), please define your @tf.function outside of the loop. For (2), @tf.function has experimental_relax_shapes=True option that relaxes argument shapes that can avoid unnecessary retracing. For (3), please refer to https://www.tensorflow.org/guide/function#controlling_retracing and https://www.tensorflow.org/api_docs/python/tf/function for  more details.\n",
            "the label is Indian_elephant with 51.424527168273926% probability\n"
          ],
          "name": "stdout"
        }
      ]
    },
    {
      "cell_type": "code",
      "metadata": {
        "colab": {
          "base_uri": "https://localhost:8080/"
        },
        "id": "vzPNVk5yFETP",
        "outputId": "0a395e3a-e7f6-48ce-806c-c4a6e6982821"
      },
      "source": [
        "# Evaluating VGG16 on pytorch\n",
        "\n",
        "import torch\n",
        "from torchvision import models\n",
        "from PIL import Image\n",
        "from torchvision import transforms\n",
        "\n",
        "ele = Image.open('/content/drive/MyDrive/Documents/CIFAR-10-images-master/elephant.jpg').convert('RGB')\n",
        "\n",
        "\n",
        "\n",
        "preprocess = transforms.Compose([\n",
        "        #transforms.Resize(259),\n",
        "        #transforms.CenterCrop(224),\n",
        "        transforms.ToTensor(),\n",
        "        #transforms.Normalize(\n",
        "        #mean=[0.485, 0.456, 0.406],\n",
        "        #std=[0.229, 0.224, 0.225])\n",
        "        ])\n",
        "\n",
        "ele = preprocess(ele)\n",
        "ele = torch.unsqueeze(ele, 0)\n",
        "\n",
        "###############################################\n",
        "model = models.vgg16(pretrained=True)\n",
        "preds = model(ele)\n",
        "\n",
        "\n",
        "with open('/content/drive/MyDrive/Documents/CIFAR-10-images-master/imagenet1000_clsidx_to_labels.txt') as f:\n",
        "  labels = [line.strip() for line in f.readlines()]\n",
        "\n",
        "\n",
        "_, index = torch.max(preds, 1)\n",
        "percentage = torch.nn.functional.softmax(preds, dim=1)[0] * 1000\n",
        "print(labels[index[0]], percentage[index[0]].item())\n",
        "\n",
        "_, indices = torch.sort(preds, descending=True)\n",
        "[(labels[idx], percentage[idx].item()) for idx in indices[0][:5]]\n",
        "\n"
      ],
      "execution_count": null,
      "outputs": [
        {
          "output_type": "stream",
          "text": [
            "386: 'African elephant, Loxodonta africana', 485.5906677246094\n"
          ],
          "name": "stdout"
        },
        {
          "output_type": "execute_result",
          "data": {
            "text/plain": [
              "[(\"386: 'African elephant, Loxodonta africana',\", 485.5906677246094),\n",
              " (\"101: 'tusker',\", 377.7314453125),\n",
              " (\"385: 'Indian elephant, Elephas maximus',\", 135.16734313964844),\n",
              " (\"51: 'triceratops',\", 0.9862051606178284),\n",
              " (\"149: 'dugong, Dugong dugon',\", 0.16821227967739105)]"
            ]
          },
          "metadata": {
            "tags": []
          },
          "execution_count": 17
        }
      ]
    }
  ]
}